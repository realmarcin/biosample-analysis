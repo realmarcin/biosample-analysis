{
 "cells": [
  {
   "cell_type": "code",
   "execution_count": 3,
   "metadata": {},
   "outputs": [
    {
     "name": "stdout",
     "output_type": "stream",
     "text": [
      "Collecting dill\n",
      "  Using cached https://files.pythonhosted.org/packages/52/d6/79f40d230895fa1ce3b6af0d22e0ac79c65175dc069c194b79cc8e05a033/dill-0.3.3-py2.py3-none-any.whl\n",
      "Installing collected packages: dill\n",
      "Successfully installed dill-0.3.3\n",
      "\u001b[33mYou are using pip version 10.0.1, however version 21.0.1 is available.\n",
      "You should consider upgrading via the 'pip install --upgrade pip' command.\u001b[0m\n",
      "Note: you may need to restart the kernel to use updated packages.\n"
     ]
    }
   ],
   "source": [
    "pip install dill"
   ]
  },
  {
   "cell_type": "code",
   "execution_count": 21,
   "metadata": {},
   "outputs": [],
   "source": [
    "import pandas as pd\n",
    "from sklearn.preprocessing import MinMaxScaler\n",
    "from sklearn.model_selection import train_test_split\n",
    "from sklearn.metrics import mean_squared_error\n",
    "from sklearn.metrics import r2_score\n",
    "from sklearn.inspection import permutation_importance\n",
    "\n",
    "import time\n",
    "from catboost import CatBoostClassifier, CatBoostRegressor, Pool, cv\n",
    "import dill\n",
    "import pickle\n",
    "import seaborn as sns\n",
    "\n",
    "import matplotlib\n",
    "import matplotlib.pyplot as plt\n",
    "import numpy as np\n",
    "import shap"
   ]
  },
  {
   "cell_type": "code",
   "execution_count": 22,
   "metadata": {},
   "outputs": [
    {
     "name": "stdout",
     "output_type": "stream",
     "text": [
      "start\n",
      "seconds 0.05515098571777344\n"
     ]
    }
   ],
   "source": [
    "random_seed = 123\n",
    "\n",
    "\n",
    "print(\"start\")\n",
    "\n",
    "start_time = time.time()\n",
    "\n",
    "#df_eco = pd.read_parquet(\"./harmonized-table__envonly.parquet\")\n",
    "df_eco = pd.read_csv(\"./harmonized-table_onlyenv_nona_num.tsv\", sep=\"\\t\", encoding=\"utf-8\")\n",
    "\n",
    "\n",
    "exec_time = (time.time() - start_time)\n",
    "print('seconds ' + str(exec_time))\n",
    "\n"
   ]
  },
  {
   "cell_type": "code",
   "execution_count": 23,
   "metadata": {},
   "outputs": [
    {
     "data": {
      "text/plain": [
       "(44674, 11)"
      ]
     },
     "execution_count": 23,
     "metadata": {},
     "output_type": "execute_result"
    }
   ],
   "source": [
    "\n",
    "df_eco.shape\n"
   ]
  },
  {
   "cell_type": "code",
   "execution_count": 24,
   "metadata": {},
   "outputs": [
    {
     "name": "stdout",
     "output_type": "stream",
     "text": [
      "         Unnamed: 0  samp_salinity     altitude   taxonomy_id    fire  \\\n",
      "count  4.467400e+04      76.000000  5972.000000  4.467400e+04   150.0   \n",
      "mean   6.759576e+06       7.726447    38.528801  6.123975e+05  2004.0   \n",
      "std    3.700029e+06       0.381711   424.608695  3.914641e+05     0.0   \n",
      "min    1.955900e+04       7.100000     0.000000  2.000000e+00  2004.0   \n",
      "25%    4.219819e+06       7.440000     0.000000  4.106580e+05  2004.0   \n",
      "50%    5.772072e+06       8.000000     0.000000  4.127550e+05  2004.0   \n",
      "75%    8.678785e+06       8.000000     0.000000  9.399280e+05  2004.0   \n",
      "max    1.429602e+07       8.000000  5450.000000  2.742685e+06  2004.0   \n",
      "\n",
      "        num_replicons  light_intensity  entrez_value  biosample_id  \\\n",
      "count      383.000000        52.000000  4.637000e+03  4.467400e+04   \n",
      "mean      2873.796345     26950.969231  8.175037e+05  7.192416e+06   \n",
      "std      51339.056773     21088.525193  3.709119e+06  4.016092e+06   \n",
      "min          1.000000      4900.000000  4.540000e+02  2.620600e+04   \n",
      "25%          1.000000     12300.000000  1.892730e+05  4.478837e+06   \n",
      "50%          1.000000     23400.000000  2.150120e+05  6.058498e+06   \n",
      "75%          1.000000     30000.000000  2.327220e+05  9.109101e+06   \n",
      "max    1000000.000000     85422.800000  2.468230e+07  1.576924e+07   \n",
      "\n",
      "       annual_season_precpt    host_taxid  \n",
      "count           1255.000000  7.698000e+03  \n",
      "mean             984.823363  1.687614e+05  \n",
      "std              557.667035  3.789085e+05  \n",
      "min                3.160000  3.208000e+03  \n",
      "25%              870.000000  4.577000e+03  \n",
      "50%              975.000000  4.577000e+03  \n",
      "75%              975.000000  4.577000e+03  \n",
      "max             6200.000000  1.671699e+06  \n"
     ]
    }
   ],
   "source": [
    "print(df_eco.describe())"
   ]
  },
  {
   "cell_type": "code",
   "execution_count": 61,
   "metadata": {},
   "outputs": [],
   "source": [
    "df_eco_small = df_eco.drop(['Unnamed: 0','taxonomy_id','fire','entrez_value','biosample_id','host_taxid'], axis=1)"
   ]
  },
  {
   "cell_type": "code",
   "execution_count": 62,
   "metadata": {},
   "outputs": [],
   "source": [
    "df_eco_small = df_eco_small.fillna(0)"
   ]
  },
  {
   "cell_type": "code",
   "execution_count": 63,
   "metadata": {},
   "outputs": [
    {
     "data": {
      "text/plain": [
       "samp_salinity             76\n",
       "altitude                  57\n",
       "num_replicons            383\n",
       "light_intensity           52\n",
       "annual_season_precpt    1255\n",
       "dtype: int64"
      ]
     },
     "execution_count": 63,
     "metadata": {},
     "output_type": "execute_result"
    }
   ],
   "source": [
    "df_eco_small.astype(bool).sum(axis=0)"
   ]
  },
  {
   "cell_type": "code",
   "execution_count": 64,
   "metadata": {},
   "outputs": [
    {
     "data": {
      "text/plain": [
       "0        0\n",
       "1        0\n",
       "2        0\n",
       "3        0\n",
       "4        0\n",
       "        ..\n",
       "44669    0\n",
       "44670    0\n",
       "44671    0\n",
       "44672    0\n",
       "44673    0\n",
       "Length: 44674, dtype: int64"
      ]
     },
     "execution_count": 64,
     "metadata": {},
     "output_type": "execute_result"
    }
   ],
   "source": [
    "df_eco_small.astype(bool).sum(axis=1)"
   ]
  },
  {
   "cell_type": "code",
   "execution_count": 65,
   "metadata": {},
   "outputs": [],
   "source": [
    "df_eco_small = df_eco_small.loc[~(df_eco_small==0).all(axis=1)]"
   ]
  },
  {
   "cell_type": "code",
   "execution_count": 66,
   "metadata": {},
   "outputs": [
    {
     "data": {
      "text/plain": [
       "(1823, 5)"
      ]
     },
     "execution_count": 66,
     "metadata": {},
     "output_type": "execute_result"
    }
   ],
   "source": [
    "df_eco_small.shape"
   ]
  },
  {
   "cell_type": "code",
   "execution_count": 67,
   "metadata": {},
   "outputs": [
    {
     "data": {
      "text/plain": [
       "Index(['samp_salinity', 'altitude', 'num_replicons', 'light_intensity',\n",
       "       'annual_season_precpt'],\n",
       "      dtype='object')"
      ]
     },
     "execution_count": 67,
     "metadata": {},
     "output_type": "execute_result"
    }
   ],
   "source": [
    "df_eco_small.columns"
   ]
  },
  {
   "cell_type": "code",
   "execution_count": 68,
   "metadata": {},
   "outputs": [
    {
     "name": "stdout",
     "output_type": "stream",
     "text": [
      "27       0.0\n",
      "289      0.0\n",
      "290      0.0\n",
      "291      0.0\n",
      "292      0.0\n",
      "        ... \n",
      "28809    0.0\n",
      "28810    0.0\n",
      "28818    0.0\n",
      "37591    0.0\n",
      "39971    0.0\n",
      "Name: light_intensity, Length: 1823, dtype: float64\n",
      "df_eco (44674, 11)\n",
      "X (1823, 4)\n"
     ]
    }
   ],
   "source": [
    "y = df_eco_small['light_intensity']\n",
    "print(y)\n",
    "\n",
    "print(\"df_eco \"+str(df_eco.shape))\n",
    "\n",
    "X = df_eco_small.drop('light_intensity', 1)#df_eco.iloc[:,:-1]\n",
    "\n",
    "print(\"X \"+str(X.shape))"
   ]
  },
  {
   "cell_type": "code",
   "execution_count": 69,
   "metadata": {},
   "outputs": [
    {
     "data": {
      "text/plain": [
       "count     1823.000000\n",
       "mean       768.760505\n",
       "std       5708.530002\n",
       "min          0.000000\n",
       "25%          0.000000\n",
       "50%          0.000000\n",
       "75%          0.000000\n",
       "max      85422.800000\n",
       "Name: light_intensity, dtype: float64"
      ]
     },
     "execution_count": 69,
     "metadata": {},
     "output_type": "execute_result"
    }
   ],
   "source": [
    "y.describe()"
   ]
  },
  {
   "cell_type": "code",
   "execution_count": 70,
   "metadata": {},
   "outputs": [
    {
     "name": "stdout",
     "output_type": "stream",
     "text": [
      "train label deficit: 0 test label deficit: 6\n",
      "shapes (1367, 4)\t(456, 4)\t(1367,)\t(456,)\n"
     ]
    }
   ],
   "source": [
    "X_train, X_test, y_train, y_test = train_test_split(X, y, random_state=random_seed) #, random_state=9# The seed was 'chosen' so test and training contain all labels: rn=3,4,8,9\n",
    "print(\"train label deficit:\",len(set(y)-set(y_train)),\"test label deficit:\",len(set(y)-set(y_test)))\n",
    "\n",
    "print(\"shapes \"+str(X_train.shape)+\"\\t\"+str(X_test.shape)+\"\\t\"+str(y_train.shape)+\"\\t\"+str(y_test.shape))\n",
    "\n",
    "train_dataset = Pool(X_train, y_train)\n",
    "test_dataset = Pool(X_test, y_test)\n",
    "\n",
    "input_data_dump = [X, y, X_train, X_test, y_train, y_test]\n",
    "pickle.dump(input_data_dump,open(\"input_data_dump\", \"wb\" ) )"
   ]
  },
  {
   "cell_type": "code",
   "execution_count": 71,
   "metadata": {},
   "outputs": [
    {
     "name": "stdout",
     "output_type": "stream",
     "text": [
      "Starting search at 1615492402.854468\n",
      "\n",
      "bestTest = 854.6196956\n",
      "bestIteration = 191\n",
      "\n",
      "0:\tloss: 854.6196956\tbest: 854.6196956 (0)\ttotal: 231ms\tremaining: 6s\n",
      "\n",
      "bestTest = 854.6196934\n",
      "bestIteration = 199\n",
      "\n",
      "1:\tloss: 854.6196934\tbest: 854.6196934 (1)\ttotal: 442ms\tremaining: 5.53s\n",
      "\n",
      "bestTest = 854.6196939\n",
      "bestIteration = 175\n",
      "\n",
      "2:\tloss: 854.6196939\tbest: 854.6196934 (1)\ttotal: 647ms\tremaining: 5.18s\n",
      "\n",
      "bestTest = 854.6196956\n",
      "bestIteration = 191\n",
      "\n",
      "3:\tloss: 854.6196956\tbest: 854.6196934 (1)\ttotal: 877ms\tremaining: 5.04s\n",
      "\n",
      "bestTest = 854.6196948\n",
      "bestIteration = 198\n",
      "\n",
      "4:\tloss: 854.6196948\tbest: 854.6196934 (1)\ttotal: 1.08s\tremaining: 4.77s\n",
      "\n",
      "bestTest = 854.6196946\n",
      "bestIteration = 197\n",
      "\n",
      "5:\tloss: 854.6196946\tbest: 854.6196934 (1)\ttotal: 1.29s\tremaining: 4.52s\n",
      "\n",
      "bestTest = 854.6196956\n",
      "bestIteration = 191\n",
      "\n",
      "6:\tloss: 854.6196956\tbest: 854.6196934 (1)\ttotal: 1.59s\tremaining: 4.54s\n",
      "\n",
      "bestTest = 854.6196942\n",
      "bestIteration = 199\n",
      "\n",
      "7:\tloss: 854.6196942\tbest: 854.6196934 (1)\ttotal: 1.8s\tremaining: 4.28s\n",
      "\n",
      "bestTest = 854.6196946\n",
      "bestIteration = 193\n",
      "\n",
      "8:\tloss: 854.6196946\tbest: 854.6196934 (1)\ttotal: 2.01s\tremaining: 4.03s\n",
      "\n",
      "bestTest = 386.7423237\n",
      "bestIteration = 164\n",
      "\n",
      "9:\tloss: 386.7423237\tbest: 386.7423237 (9)\ttotal: 2.24s\tremaining: 3.81s\n",
      "\n",
      "bestTest = 393.4432027\n",
      "bestIteration = 190\n",
      "\n",
      "10:\tloss: 393.4432027\tbest: 386.7423237 (9)\ttotal: 2.48s\tremaining: 3.6s\n",
      "\n",
      "bestTest = 380.575901\n",
      "bestIteration = 3\n",
      "\n",
      "11:\tloss: 380.5759010\tbest: 380.5759010 (11)\ttotal: 2.72s\tremaining: 3.4s\n",
      "\n",
      "bestTest = 380.575901\n",
      "bestIteration = 192\n",
      "\n",
      "12:\tloss: 380.5759010\tbest: 380.5759010 (11)\ttotal: 2.95s\tremaining: 3.17s\n",
      "\n",
      "bestTest = 393.4226232\n",
      "bestIteration = 97\n",
      "\n",
      "13:\tloss: 393.4226232\tbest: 380.5759010 (11)\ttotal: 3.18s\tremaining: 2.95s\n",
      "\n",
      "bestTest = 380.575901\n",
      "bestIteration = 3\n",
      "\n",
      "14:\tloss: 380.5759010\tbest: 380.5759010 (11)\ttotal: 3.43s\tremaining: 2.74s\n",
      "\n",
      "bestTest = 380.575901\n",
      "bestIteration = 182\n",
      "\n",
      "15:\tloss: 380.5759010\tbest: 380.5759010 (11)\ttotal: 3.66s\tremaining: 2.52s\n",
      "\n",
      "bestTest = 393.4226151\n",
      "bestIteration = 149\n",
      "\n",
      "16:\tloss: 393.4226151\tbest: 380.5759010 (11)\ttotal: 3.88s\tremaining: 2.28s\n",
      "\n",
      "bestTest = 380.575901\n",
      "bestIteration = 3\n",
      "\n",
      "17:\tloss: 380.5759010\tbest: 380.5759010 (11)\ttotal: 4.13s\tremaining: 2.06s\n",
      "\n",
      "bestTest = 460.1246123\n",
      "bestIteration = 183\n",
      "\n",
      "18:\tloss: 460.1246123\tbest: 380.5759010 (11)\ttotal: 4.38s\tremaining: 1.84s\n",
      "\n",
      "bestTest = 444.8094786\n",
      "bestIteration = 134\n",
      "\n",
      "19:\tloss: 444.8094786\tbest: 380.5759010 (11)\ttotal: 4.62s\tremaining: 1.62s\n",
      "\n",
      "bestTest = 460.8678718\n",
      "bestIteration = 14\n",
      "\n",
      "20:\tloss: 460.8678718\tbest: 380.5759010 (11)\ttotal: 4.88s\tremaining: 1.4s\n",
      "\n",
      "bestTest = 460.0456821\n",
      "bestIteration = 197\n",
      "\n",
      "21:\tloss: 460.0456821\tbest: 380.5759010 (11)\ttotal: 5.15s\tremaining: 1.17s\n",
      "\n",
      "bestTest = 444.8094786\n",
      "bestIteration = 194\n",
      "\n",
      "22:\tloss: 444.8094786\tbest: 380.5759010 (11)\ttotal: 5.46s\tremaining: 950ms\n",
      "\n",
      "bestTest = 460.8678718\n",
      "bestIteration = 14\n",
      "\n",
      "23:\tloss: 460.8678718\tbest: 380.5759010 (11)\ttotal: 5.75s\tremaining: 719ms\n",
      "\n",
      "bestTest = 460.2035425\n",
      "bestIteration = 81\n",
      "\n",
      "24:\tloss: 460.2035425\tbest: 380.5759010 (11)\ttotal: 6.02s\tremaining: 482ms\n",
      "\n",
      "bestTest = 445.3439019\n",
      "bestIteration = 198\n",
      "\n",
      "25:\tloss: 445.3439019\tbest: 380.5759010 (11)\ttotal: 6.27s\tremaining: 241ms\n",
      "\n",
      "bestTest = 460.8678718\n",
      "bestIteration = 14\n",
      "\n",
      "26:\tloss: 460.8678718\tbest: 380.5759010 (11)\ttotal: 6.54s\tremaining: 0us\n",
      "Estimating final quality...\n",
      "Trained grid search in 8.049546957015991s\n",
      "lr, de, l2 1, 4, 2\n"
     ]
    }
   ],
   "source": [
    "modelstart = time.time()\n",
    "\n",
    "print(f\"Starting search at {modelstart}\")\n",
    "cb_model = CatBoostRegressor(loss_function='MAE',\n",
    "                             iterations = 200,\n",
    "                             verbose = 5,\n",
    "                             learning_rate = 0.1,\n",
    "                             depth = 3,\n",
    "                             l2_leaf_reg = 0.5,\n",
    "                             #eval_metric = 'MCC',\n",
    "                             random_seed = random_seed,\n",
    "                             #bagging_temperature = 0.2,\n",
    "                             #od_type = 'Iter',\n",
    "                             #od_wait = 100\n",
    ")\n",
    "\n",
    "grid = {#'iterations': [100, 150, 200],\n",
    "       'learning_rate': [0.6, 0.8, 1],\n",
    "        'depth': [3,4,5],\n",
    "        'l2_leaf_reg': [2,3,4]}\n",
    "grid_search_result = cb_model.grid_search(grid, train_dataset)\n",
    "\n",
    "lr = grid_search_result['params']['learning_rate']\n",
    "de = grid_search_result['params']['depth']\n",
    "l2 = grid_search_result['params']['l2_leaf_reg']\n",
    "\n",
    "print(f\"Trained grid search in {time.time() - modelstart}s\")\n",
    "\n",
    "print(\"lr, de, l2 \"+str(lr)+\", \"+str(de)+\", \"+str(l2))\n",
    "\n",
    "\n",
    "\n"
   ]
  },
  {
   "cell_type": "code",
   "execution_count": 72,
   "metadata": {},
   "outputs": [
    {
     "name": "stdout",
     "output_type": "stream",
     "text": [
      "Starting at 1615492426.000479\n",
      "0:\tlearn: 827.0677330\ttotal: 2.32ms\tremaining: 462ms\n",
      "5:\tlearn: 827.0677320\ttotal: 11.5ms\tremaining: 373ms\n",
      "10:\tlearn: 827.0677320\ttotal: 20.3ms\tremaining: 348ms\n",
      "15:\tlearn: 827.0677318\ttotal: 27.2ms\tremaining: 313ms\n",
      "20:\tlearn: 827.0677318\ttotal: 34.1ms\tremaining: 291ms\n",
      "25:\tlearn: 457.1745353\ttotal: 39.6ms\tremaining: 265ms\n",
      "30:\tlearn: 457.1745353\ttotal: 45ms\tremaining: 246ms\n",
      "35:\tlearn: 457.1745353\ttotal: 50.8ms\tremaining: 231ms\n",
      "40:\tlearn: 457.1745353\ttotal: 56.6ms\tremaining: 219ms\n",
      "45:\tlearn: 457.1745353\ttotal: 62.4ms\tremaining: 209ms\n",
      "50:\tlearn: 457.1745353\ttotal: 69.1ms\tremaining: 202ms\n",
      "55:\tlearn: 457.1745353\ttotal: 74.9ms\tremaining: 193ms\n",
      "60:\tlearn: 457.1745353\ttotal: 83.1ms\tremaining: 189ms\n",
      "65:\tlearn: 457.1745353\ttotal: 89.5ms\tremaining: 182ms\n",
      "70:\tlearn: 457.1745353\ttotal: 95.5ms\tremaining: 173ms\n",
      "75:\tlearn: 457.1745353\ttotal: 101ms\tremaining: 165ms\n",
      "80:\tlearn: 457.1745353\ttotal: 107ms\tremaining: 158ms\n",
      "85:\tlearn: 457.1745353\ttotal: 114ms\tremaining: 151ms\n",
      "90:\tlearn: 457.1745353\ttotal: 122ms\tremaining: 146ms\n",
      "95:\tlearn: 457.1745353\ttotal: 128ms\tremaining: 139ms\n",
      "100:\tlearn: 457.1745353\ttotal: 134ms\tremaining: 132ms\n",
      "105:\tlearn: 457.1745353\ttotal: 140ms\tremaining: 125ms\n",
      "110:\tlearn: 457.1745353\ttotal: 146ms\tremaining: 117ms\n",
      "115:\tlearn: 457.1745353\ttotal: 152ms\tremaining: 110ms\n",
      "120:\tlearn: 457.1745353\ttotal: 158ms\tremaining: 103ms\n",
      "125:\tlearn: 457.1745353\ttotal: 164ms\tremaining: 96.4ms\n",
      "130:\tlearn: 457.1745353\ttotal: 170ms\tremaining: 89.5ms\n",
      "135:\tlearn: 457.1745353\ttotal: 177ms\tremaining: 83.4ms\n",
      "140:\tlearn: 457.1745354\ttotal: 183ms\tremaining: 76.6ms\n",
      "145:\tlearn: 457.1745353\ttotal: 190ms\tremaining: 70.1ms\n",
      "150:\tlearn: 457.1745353\ttotal: 197ms\tremaining: 63.9ms\n",
      "155:\tlearn: 457.1745353\ttotal: 203ms\tremaining: 57.3ms\n",
      "160:\tlearn: 457.1745353\ttotal: 210ms\tremaining: 50.7ms\n",
      "165:\tlearn: 457.1745353\ttotal: 215ms\tremaining: 44.1ms\n",
      "170:\tlearn: 457.1745353\ttotal: 221ms\tremaining: 37.5ms\n",
      "175:\tlearn: 457.1745354\ttotal: 227ms\tremaining: 31ms\n",
      "180:\tlearn: 457.1745354\ttotal: 233ms\tremaining: 24.5ms\n",
      "185:\tlearn: 457.1745354\ttotal: 239ms\tremaining: 18ms\n",
      "190:\tlearn: 457.1745354\ttotal: 245ms\tremaining: 11.5ms\n",
      "195:\tlearn: 457.1745354\ttotal: 252ms\tremaining: 5.14ms\n",
      "199:\tlearn: 457.1745354\ttotal: 258ms\tremaining: 0us\n",
      "Trained in 0.2823059558868408s\n"
     ]
    }
   ],
   "source": [
    "modelstart = time.time()\n",
    "\n",
    "print(f\"Starting at {modelstart}\")\n",
    "cb_model = CatBoostRegressor(loss_function='MAE',\n",
    "                             iterations = 200,\n",
    "                             verbose = 5,\n",
    "                             learning_rate = lr,\n",
    "                             depth = de,\n",
    "                             l2_leaf_reg = l2,\n",
    "                             #eval_metric = 'MCC',\n",
    "                             random_seed = random_seed,\n",
    "                             #bagging_temperature = 0.2,\n",
    "                             #od_type = 'Iter',\n",
    "                             #od_wait = 100\n",
    ")\n",
    "\n",
    "cbmf = cb_model.fit(X_train, y_train)\n",
    "print(f\"Trained in {time.time() - modelstart}s\")\n",
    "\n",
    "\n",
    "\n"
   ]
  },
  {
   "cell_type": "code",
   "execution_count": 73,
   "metadata": {},
   "outputs": [
    {
     "name": "stdout",
     "output_type": "stream",
     "text": [
      "Testing performance:\n",
      "RMSE training: 3891.60\n",
      "R2 training: 0.60\n"
     ]
    }
   ],
   "source": [
    "pred_train = cb_model.predict(X_train)\n",
    "rmseT = (np.sqrt(mean_squared_error(y_train, pred_train)))\n",
    "r2T = r2_score(y_train, pred_train)\n",
    "print(\"Testing performance:\")\n",
    "print('RMSE training: {:.2f}'.format(rmseT))\n",
    "print('R2 training: {:.2f}'.format(r2T))\n",
    "\n",
    "\n"
   ]
  },
  {
   "cell_type": "code",
   "execution_count": 74,
   "metadata": {},
   "outputs": [],
   "source": [
    "cbmf.feature_names = df_eco_small.columns[:-1]"
   ]
  },
  {
   "cell_type": "code",
   "execution_count": 75,
   "metadata": {},
   "outputs": [
    {
     "name": "stdout",
     "output_type": "stream",
     "text": [
      "Testing performance:\n",
      "RMSE: 2205.98\n",
      "R2: 0.73\n"
     ]
    }
   ],
   "source": [
    "pred_test = cb_model.predict(X_test)\n",
    "rmse = (np.sqrt(mean_squared_error(y_test, pred_test)))\n",
    "r2 = r2_score(y_test, pred_test)\n",
    "print(\"Testing performance:\")\n",
    "print('RMSE: {:.2f}'.format(rmse))\n",
    "print('R2: {:.2f}'.format(r2))\n",
    "\n",
    "\n"
   ]
  },
  {
   "cell_type": "code",
   "execution_count": 76,
   "metadata": {},
   "outputs": [],
   "source": [
    "explainer_model = shap.TreeExplainer(cb_model)\n",
    "explainer_fit = shap.TreeExplainer(cbmf)"
   ]
  },
  {
   "cell_type": "code",
   "execution_count": 77,
   "metadata": {},
   "outputs": [],
   "source": [
    "data_output = [random_seed, cb_model, cbmf, pred_train, explainer_model, pred_test, explainer_fit]\n",
    "pickle.dump(data_output,open(\"data_output\", \"wb\" ) )"
   ]
  },
  {
   "cell_type": "code",
   "execution_count": 78,
   "metadata": {},
   "outputs": [
    {
     "data": {
      "text/plain": [
       "Text(0.5, 0, 'CatBoost Feature Importance')"
      ]
     },
     "execution_count": 78,
     "metadata": {},
     "output_type": "execute_result"
    },
    {
     "data": {
      "image/png": "[encoded data removed]",
      "text/plain": [
       "<Figure size 432x288 with 1 Axes>"
      ]
     },
     "metadata": {
      "needs_background": "light"
     },
     "output_type": "display_data"
    }
   ],
   "source": [
    "sorted_feature_importance = cb_model.feature_importances_.argsort()\n",
    "plt.barh(cb_model.feature_names[sorted_feature_importance[1:100]],\n",
    "        cb_model.feature_importances_[sorted_feature_importance[1:100]],\n",
    "        color='turquoise')\n",
    "plt.xlabel(\"CatBoost Feature Importance\")"
   ]
  },
  {
   "cell_type": "code",
   "execution_count": 79,
   "metadata": {},
   "outputs": [
    {
     "data": {
      "image/png": "[encoded data removed]",
      "text/plain": [
       "<Figure size 576x223.2 with 2 Axes>"
      ]
     },
     "metadata": {
      "needs_background": "light"
     },
     "output_type": "display_data"
    }
   ],
   "source": [
    "shap_values = explainer_model.shap_values(X_train)\n",
    "shap.summary_plot(shap_values, X_train, feature_names = cb_model.feature_names[sorted_feature_importance],show=False)#,matplotlib=True).savefig('SHAP.pdf',bbox_inches = 'tight')\n",
    "\n"
   ]
  },
  {
   "cell_type": "code",
   "execution_count": 80,
   "metadata": {},
   "outputs": [
    {
     "name": "stdout",
     "output_type": "stream",
     "text": [
      "0:\tlearn: 768.7605004\ttotal: 2.37ms\tremaining: 473ms\n",
      "5:\tlearn: 768.7604997\ttotal: 10.2ms\tremaining: 329ms\n",
      "10:\tlearn: 768.7604994\ttotal: 20.7ms\tremaining: 356ms\n",
      "15:\tlearn: 420.9777238\ttotal: 27.3ms\tremaining: 314ms\n",
      "20:\tlearn: 420.9777239\ttotal: 33.5ms\tremaining: 286ms\n",
      "25:\tlearn: 420.9777239\ttotal: 39.6ms\tremaining: 265ms\n",
      "30:\tlearn: 420.9777238\ttotal: 45.4ms\tremaining: 248ms\n",
      "35:\tlearn: 420.9777238\ttotal: 51.3ms\tremaining: 233ms\n",
      "40:\tlearn: 420.9777238\ttotal: 57.5ms\tremaining: 223ms\n",
      "45:\tlearn: 420.9777238\ttotal: 63.7ms\tremaining: 213ms\n",
      "50:\tlearn: 420.9777238\ttotal: 70.2ms\tremaining: 205ms\n",
      "55:\tlearn: 420.9777239\ttotal: 77ms\tremaining: 198ms\n",
      "60:\tlearn: 420.9777238\ttotal: 83.6ms\tremaining: 191ms\n",
      "65:\tlearn: 420.9777238\ttotal: 90.3ms\tremaining: 183ms\n",
      "70:\tlearn: 420.9777238\ttotal: 97.1ms\tremaining: 176ms\n",
      "75:\tlearn: 420.9777238\ttotal: 104ms\tremaining: 170ms\n",
      "80:\tlearn: 420.9777239\ttotal: 110ms\tremaining: 162ms\n",
      "85:\tlearn: 420.9777239\ttotal: 117ms\tremaining: 155ms\n",
      "90:\tlearn: 420.9777238\ttotal: 123ms\tremaining: 147ms\n",
      "95:\tlearn: 420.9777238\ttotal: 129ms\tremaining: 140ms\n",
      "100:\tlearn: 420.9777238\ttotal: 136ms\tremaining: 133ms\n",
      "105:\tlearn: 420.9777238\ttotal: 142ms\tremaining: 126ms\n",
      "110:\tlearn: 420.9777238\ttotal: 149ms\tremaining: 119ms\n",
      "115:\tlearn: 420.9777238\ttotal: 156ms\tremaining: 113ms\n",
      "120:\tlearn: 420.9777239\ttotal: 162ms\tremaining: 106ms\n",
      "125:\tlearn: 420.9777239\ttotal: 168ms\tremaining: 98.8ms\n",
      "130:\tlearn: 420.9777239\ttotal: 177ms\tremaining: 93.4ms\n",
      "135:\tlearn: 420.9777239\ttotal: 184ms\tremaining: 86.6ms\n",
      "140:\tlearn: 420.9777239\ttotal: 191ms\tremaining: 79.7ms\n",
      "145:\tlearn: 420.9777239\ttotal: 198ms\tremaining: 73.4ms\n",
      "150:\tlearn: 420.9777239\ttotal: 206ms\tremaining: 67ms\n",
      "155:\tlearn: 420.9777239\ttotal: 213ms\tremaining: 60.1ms\n",
      "160:\tlearn: 420.9777239\ttotal: 220ms\tremaining: 53.2ms\n",
      "165:\tlearn: 420.9777239\ttotal: 226ms\tremaining: 46.4ms\n",
      "170:\tlearn: 420.9777239\ttotal: 233ms\tremaining: 39.5ms\n",
      "175:\tlearn: 420.9777239\ttotal: 239ms\tremaining: 32.6ms\n",
      "180:\tlearn: 420.9777239\ttotal: 246ms\tremaining: 25.8ms\n",
      "185:\tlearn: 420.9777239\ttotal: 252ms\tremaining: 19ms\n",
      "190:\tlearn: 420.9777239\ttotal: 258ms\tremaining: 12.2ms\n",
      "195:\tlearn: 420.9777239\ttotal: 264ms\tremaining: 5.38ms\n",
      "199:\tlearn: 420.9777239\ttotal: 268ms\tremaining: 0us\n"
     ]
    }
   ],
   "source": [
    "cbmf_all = cb_model.fit(X,y)"
   ]
  },
  {
   "cell_type": "code",
   "execution_count": 81,
   "metadata": {},
   "outputs": [
    {
     "name": "stdout",
     "output_type": "stream",
     "text": [
      "All performance:\n",
      "RMSE training: 3625.02\n",
      "R2 training: 0.60\n"
     ]
    }
   ],
   "source": [
    "pred_all = cbmf_all.predict(X)\n",
    "rmseA = (np.sqrt(mean_squared_error(y, pred_all)))\n",
    "r2A = r2_score(y, pred_all)\n",
    "print(\"All performance:\")\n",
    "print('RMSE training: {:.2f}'.format(rmseA))\n",
    "print('R2 training: {:.2f}'.format(r2A))\n",
    "\n",
    "\n",
    "\n"
   ]
  },
  {
   "cell_type": "code",
   "execution_count": 82,
   "metadata": {},
   "outputs": [],
   "source": [
    "explainer_all = shap.TreeExplainer(cbmf_all)"
   ]
  },
  {
   "cell_type": "code",
   "execution_count": 83,
   "metadata": {},
   "outputs": [
    {
     "data": {
      "image/png": "[encoded data removed]",
      "text/plain": [
       "<Figure size 576x223.2 with 2 Axes>"
      ]
     },
     "metadata": {
      "needs_background": "light"
     },
     "output_type": "display_data"
    }
   ],
   "source": [
    "shap_values_all = explainer_all.shap_values(X)\n",
    "shap.summary_plot(shap_values_all, X, feature_names = cb_model.feature_names[sorted_feature_importance],show=False)#,matplotlib=True).savefig('SHAP.pdf',bbox_inches = 'tight')\n",
    "\n",
    "\n"
   ]
  }
 ],
 "metadata": {
  "kernelspec": {
   "display_name": "Python 3",
   "language": "python",
   "name": "python3"
  },
  "language_info": {
   "codemirror_mode": {
    "name": "ipython",
    "version": 3
   },
   "file_extension": ".py",
   "mimetype": "text/x-python",
   "name": "python",
   "nbconvert_exporter": "python",
   "pygments_lexer": "ipython3",
   "version": "3.7.0b4"
  }
 },
 "nbformat": 4,
 "nbformat_minor": 4
}
